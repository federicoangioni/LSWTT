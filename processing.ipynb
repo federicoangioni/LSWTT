{
 "cells": [
  {
   "cell_type": "markdown",
   "metadata": {},
   "source": [
    "## 1. Importing dependencies and Data"
   ]
  },
  {
   "cell_type": "code",
   "execution_count": 1,
   "metadata": {
    "trusted": true
   },
   "outputs": [],
   "source": [
    "import pandas as pd\n",
    "import matplotlib.pyplot as plt\n",
    "import numpy as np"
   ]
  },
  {
   "cell_type": "markdown",
   "metadata": {},
   "source": [
    "Importing the data recorded from the pressure ports"
   ]
  },
  {
   "cell_type": "code",
   "execution_count": null,
   "metadata": {
    "trusted": true
   },
   "outputs": [],
   "source": [
    "pressures = pd.read_csv('data/raw_testG41.csv')\n",
    "pressures.columns\n",
    "pressures.dtypes"
   ]
  },
  {
   "cell_type": "markdown",
   "metadata": {},
   "source": [
    "Importing the coordinates of each static port on the airfoil"
   ]
  },
  {
   "cell_type": "code",
   "execution_count": null,
   "metadata": {
    "trusted": true
   },
   "outputs": [],
   "source": [
    "airfoil_ports = pd.read_csv('data/airfoil_coordinates.csv')\n",
    "airfoil_ports.columns"
   ]
  },
  {
   "cell_type": "markdown",
   "metadata": {},
   "source": [
    "## 2. Processing to floats"
   ]
  },
  {
   "cell_type": "code",
   "execution_count": 4,
   "metadata": {
    "trusted": true
   },
   "outputs": [],
   "source": [
    "pressures = pressures.drop(labels=0)"
   ]
  },
  {
   "cell_type": "code",
   "execution_count": null,
   "metadata": {
    "trusted": true
   },
   "outputs": [],
   "source": [
    "pressures.columns = pressures.columns.str.strip(' ')\n",
    "pressures.columns"
   ]
  },
  {
   "cell_type": "code",
   "execution_count": 6,
   "metadata": {
    "trusted": true
   },
   "outputs": [],
   "source": [
    "pressures = pressures.drop(labels= ['Time', 'Run_nr'], axis=1)"
   ]
  },
  {
   "cell_type": "code",
   "execution_count": 7,
   "metadata": {
    "trusted": true
   },
   "outputs": [],
   "source": [
    "pressures = pressures.astype(float)"
   ]
  },
  {
   "cell_type": "markdown",
   "metadata": {},
   "source": [
    "## 3. Transform from pressure distribution to dimensionless coefficient $C_p \\: [-]$"
   ]
  },
  {
   "cell_type": "code",
   "execution_count": 8,
   "metadata": {
    "trusted": true
   },
   "outputs": [],
   "source": [
    "pressures['q_inf'] = 0.211804 + 1.928442*pressures['Delta_Pb'] + 1.879374 *10**(-4) * (pressures['Delta_Pb'])**2 # in pascal"
   ]
  },
  {
   "cell_type": "code",
   "execution_count": 9,
   "metadata": {},
   "outputs": [],
   "source": [
    "pressures['p_s_inf'] = pressures['P097'] - pressures['q_inf']\n",
    "pressures.to_csv('data/pressures.csv')"
   ]
  },
  {
   "cell_type": "code",
   "execution_count": 10,
   "metadata": {},
   "outputs": [],
   "source": [
    "cp_distributions = pressures.copy()\n",
    "\n",
    "cp_distributions.loc[:, 'P001':'P049'] = (pressures.loc[:, 'P001':'P049']).div(pressures.loc[:, 'q_inf'], axis = 0)"
   ]
  },
  {
   "cell_type": "code",
   "execution_count": 11,
   "metadata": {},
   "outputs": [],
   "source": [
    "cp_distributions.loc[:, 'Alpha':'P049'].to_csv('data/processed_cp.csv')"
   ]
  },
  {
   "cell_type": "code",
   "execution_count": null,
   "metadata": {
    "trusted": true
   },
   "outputs": [],
   "source": [
    "aoa = [14]\n",
    "colors = ['tab:blue', 'tab:orange', 'tab:green', 'tab:purple']  # Adjust for multiple AoAs\n",
    "\n",
    "for idx, angle in enumerate(aoa):\n",
    "    if angle not in pressures['Alpha'].values:\n",
    "        raise Exception(f\"Angle of attack {angle}° was not measured during the test or the number is inserted incorrectly.\")\n",
    "\n",
    "    temp = cp_distributions[cp_distributions['Alpha'] == angle].copy(deep=True).reset_index()\n",
    "\n",
    "    for i in range(len(temp)):\n",
    "        upper = temp.loc[i, 'P001':'P025'].to_numpy().flatten()\n",
    "        lower = temp.loc[i, 'P026':'P049'].to_numpy().flatten()\n",
    "\n",
    "        plt.plot(airfoil_ports['x'][0:25], upper, color=colors[idx], marker = '^', markersize = 5, label='Upper Surface')\n",
    "        plt.plot(airfoil_ports['x'][25:49], lower, color=colors[idx+1], marker = 'o', markersize = 5, label='Lower Surface')\n",
    "\n",
    "plt.axhline(0.0, linestyle=(0, (1, 5)), color='red')\n",
    "plt.grid()\n",
    "plt.xlabel('Percentage of the chord $(x/c)$ [%]')\n",
    "plt.ylabel(r'Pressure Coefficient $C_p$ [-]')\n",
    "plt.gca().invert_yaxis()\n",
    "plt.legend()\n",
    "#plt.savefig('C_Pdistribution6deg.svg')  # Uncomment to save\n",
    "plt.show()"
   ]
  },
  {
   "cell_type": "markdown",
   "metadata": {},
   "source": [
    "## Veryfing Bernard's data"
   ]
  },
  {
   "cell_type": "markdown",
   "metadata": {},
   "source": [
    "### normal coefficient calculations"
   ]
  },
  {
   "cell_type": "code",
   "execution_count": null,
   "metadata": {},
   "outputs": [],
   "source": [
    "import pandas as pd\n",
    "import numpy as np\n",
    "import scipy.integrate as integrate\n",
    "import matplotlib.pyplot as plt\n",
    "\n",
    "cp_distributions = pd.read_csv('data/processed_cp.csv')\n",
    "airfoil_ports = pd.read_csv('data/airfoil_coordinates.csv')\n",
    "\n",
    "cns = []\n",
    "cms = []\n",
    "for i, alpha in enumerate(cp_distributions['Alpha']):\n",
    "    \n",
    "    temp = cp_distributions[cp_distributions['Alpha'] == alpha].copy(deep=True).reset_index()\n",
    "    \n",
    "    upper_p = temp.loc[0, 'P001':'P025'].to_numpy().flatten()\n",
    "    lower_p = temp.loc[0, 'P026':'P049'].to_numpy().flatten()\n",
    "    \n",
    "    upper_l = integrate.trapezoid(upper_p, airfoil_ports['x'][0:25])/100\n",
    "    lower_l = integrate.trapezoid(lower_p, airfoil_ports['x'][25:49])/100\n",
    "    \n",
    "    upper_p = temp.loc[0, 'P001':'P025'].to_numpy().flatten()\n",
    "    lower_p = temp.loc[0, 'P026':'P049'].to_numpy().flatten()\n",
    "    \n",
    "    upper_m = integrate.trapezoid(upper_p * (airfoil_ports['x'][0:25]/100), airfoil_ports['x'][0:25]/100)\n",
    "    lower_m = integrate.trapezoid(lower_p * (airfoil_ports['x'][25:49]/100), airfoil_ports['x'][25:49]/100)\n",
    "    \n",
    "    cm = upper_m - lower_m\n",
    "    \n",
    "    cn = lower_l - upper_l\n",
    "    \n",
    "    cms.append(cm)\n",
    "    cns.append(cn)\n",
    "    \n",
    "\n",
    "plt.plot(cp_distributions['Alpha'], cns)\n",
    "plt.xlabel(r\"$\\alpha \\: [\\deg]$\")\n",
    "plt.ylabel(r\"$c_n \\: [-]$\")\n",
    "plt.axhline(0, color = 'black')\n",
    "plt.axvline(0, color= 'black')\n",
    "plt.grid()\n",
    "plt.show()\n",
    "#1.044856476006498\n"
   ]
  },
  {
   "cell_type": "markdown",
   "metadata": {},
   "source": [
    "### drag coefficient from wake rake"
   ]
  },
  {
   "cell_type": "code",
   "execution_count": null,
   "metadata": {},
   "outputs": [],
   "source": [
    "import pandas as pd\n",
    "import numpy as np\n",
    "import scipy.integrate as integrate\n",
    "import matplotlib.pyplot as plt\n",
    "\n",
    "total = pd.read_csv('data/total_wake.csv')\n",
    "static = pd.read_csv('data/static_rake.csv')\n",
    "\n",
    "static_ports = list(static.loc[:, 'Port'])\n",
    "total_ports = total.loc[:, 'Port']\n",
    "\n",
    "\n",
    "velocities = [s + \"_v\" for s in total_ports]\n",
    "\n",
    "\n",
    "pressures['p_s_avg'] = pressures[static_ports].astype(float).mean(axis=1)\n",
    "\n",
    "\n",
    "pressures['V_inf'] = np.sqrt((pressures['q_inf']).div(0.5*pressures['rho'], axis = 0))\n",
    "\n",
    "pressures[velocities] = np.sqrt((pressures[total_ports].subtract(pressures['p_s_avg'].astype(float), axis= 0)).div(.5*pressures['rho'], axis= 0))\n",
    "\n",
    "aoa = 6\n",
    "\n",
    "temp = pressures[pressures['Alpha'] == aoa].copy(deep=True).reset_index()\n",
    "\n",
    "plt.plot(total['mm'][:], temp[velocities].to_numpy().flatten())\n",
    "plt.grid()\n",
    "plt.show()\n"
   ]
  },
  {
   "cell_type": "code",
   "execution_count": 15,
   "metadata": {},
   "outputs": [],
   "source": [
    "total_T = total.set_index(total['Port']).T"
   ]
  },
  {
   "cell_type": "code",
   "execution_count": null,
   "metadata": {},
   "outputs": [],
   "source": [
    "cds = []\n",
    "\n",
    "for i, alpha in enumerate(pressures['Alpha']):\n",
    "    \n",
    "    temp = pressures[pressures['Alpha'] == alpha].copy(deep=True).reset_index()\n",
    "    \n",
    "    integrand = ((-temp.loc[0, velocities]).add(temp.loc[0, 'V_inf'], axis = 0)).multiply(temp.loc[0, velocities], axis = 0)\n",
    "    \n",
    "    integrand = (integrand['P056_v': 'P091_v'])\n",
    "    \n",
    "    first_int = integrate.trapezoid(integrand, total_T.loc['mm', 'P056':'P091'])\n",
    "    \n",
    "\n",
    "    integrand = (-temp.loc[0, static_ports]).add(temp.loc[0, 'p_s_inf'], axis = 0)\n",
    "\n",
    "    second_int = integrate.trapezoid(integrand, static['mm'][:])\n",
    "    \n",
    "    D = temp['rho']*first_int + second_int\n",
    "    \n",
    "    cd = D/(temp['q_inf'] * 160)\n",
    "    # \n",
    "    cds.append(float(cd.iloc[0]))\n",
    "cds = np.array(cds)\n",
    "\n",
    "pressures['c_d'] = cds\n",
    "\n",
    "plt.plot(pressures['Alpha'], cds, marker = 'o', markersize = 6, zorder = 999,\n",
    "         markerfacecolor= 'tab:red', markeredgecolor  = 'black', label = 'SD6060', color = 'black')\n",
    "plt.xlabel(r\"$\\alpha \\quad [\\deg]$\")\n",
    "plt.ylabel(r\"$c_d \\quad [-]$\")\n",
    "plt.axhline(0, color = 'black', linestyle='--')\n",
    "plt.axvline(0, color= 'black', linestyle='--')\n",
    "plt.xticks(range(-6, 15, 2))\n",
    "plt.legend()\n",
    "plt.grid()\n",
    "plt.savefig('plots/cd-alpha.svg')\n",
    "plt.show()"
   ]
  },
  {
   "cell_type": "markdown",
   "metadata": {},
   "source": [
    "### Lift coefficient"
   ]
  },
  {
   "cell_type": "code",
   "execution_count": null,
   "metadata": {},
   "outputs": [],
   "source": [
    "cns = np.array(cns)\n",
    "cms = np.array(cms)\n",
    "\n",
    "pressures['c_n'] = cns\n",
    "pressures['c_m'] = cms\n",
    "factor = np.cos(np.radians(pressures['Alpha'])) +  np.sin(np.radians(pressures['Alpha']))**2 / np.cos(np.radians(pressures['Alpha']))\n",
    "pressures['c_l'] = pressures['c_n'] * factor - pressures['c_d']*np.tan(np.radians(pressures['Alpha']))\n",
    "\n",
    "plt.plot(cp_distributions['Alpha'], pressures['c_l'])\n",
    "plt.xlabel(r\"$\\alpha \\: [\\deg]$\")\n",
    "plt.ylabel(r\"$c_n \\: [-]$\")\n",
    "plt.axhline(0, color = 'black')\n",
    "plt.axvline(0, color= 'black')\n",
    "plt.grid()\n",
    "plt.show()"
   ]
  },
  {
   "cell_type": "markdown",
   "metadata": {},
   "source": [
    "## Medhansh"
   ]
  },
  {
   "cell_type": "code",
   "execution_count": null,
   "metadata": {},
   "outputs": [],
   "source": [
    "# select your angle of attack!\n",
    "aoa = 0\n",
    "\n",
    "\n",
    "# Load the data from the file, skipping the header lines\n",
    "data = np.genfromtxt('SD6060-104-88_T1_Re0.225_M0.06_N9.0_XtrTop15%_XtrBot15%.txt', skip_header=12)\n",
    "Cp_data = np.genfromtxt(f'2D_XFLR_Cp_{aoa}deg.txt', skip_header=7)\n",
    "\n",
    "# Extracting the columns for CL, CD, and Cm (columns 2, 3, and 5)\n",
    "alpha = data[:, 0]  # Alpha (angle of attack) is the first column\n",
    "CL = data[:, 1]     # CL is the second column\n",
    "CD = data[:, 2]     # CD is the third column \n",
    "Cm = data[:, 4]     # Cm is the fifth column \n",
    "\n",
    "#% chord length\n",
    "chord_fraction = Cp_data[:, 0] * 100  # Alpha (angle of attack) is the first column\n",
    "cp = Cp_data[:, 2]  # Alpha (angle of attack) is the first column\n",
    "\n",
    "# Filter the data for -6° <= alpha <= 15°\n",
    "filtered_indices = (alpha >= -6) & (alpha <= 15)\n",
    "alpha_filtered = alpha[filtered_indices]\n",
    "CL_filtered = CL[filtered_indices]\n",
    "CD_filtered = CD[filtered_indices]\n",
    "Cm_filtered = Cm[filtered_indices]\n",
    "\n",
    "# Find the maximum of the lift curve (CL)\n",
    "max_CL_index = np.argmax(CL_filtered)\n",
    "max_CL = CL_filtered[max_CL_index]\n",
    "max_alpha = alpha_filtered[max_CL_index]\n",
    "\n",
    "\n",
    "# Wind Tunnel data\n",
    "aoa_tunnel = [-6, -5, -4, -3, -2, -1, 0, 0, 1, 2, 3, 4, 5, 6, 7, 8, 9, 10, 10.25, 10.5, 10.75, 11, 11.25, 11.5, 11.75, 12, 12.25, 12.5, 12.75, 13, 14, 13.75, 13.5, 13.25, 13, 12.75, 12.5, 12.25, 12, 11.75, 11.5, 11.25, 11, 10.75, 10.5, 10.25, 10, 9, 9.75, 9.5, 9.25]\n",
    "Cl_tunnel = [-0.393910346, -0.278156012, -0.186107295, -0.115729483, -0.045840272, 0.039584538, 0.135775102, 0.135811407, 0.267583277, 0.353789704, 0.439685792, 0.529191376, 0.622973864, 0.694710091, 0.787163562, 0.865147331, 0.934563178, 0.981139634, 0.972765184, 0.972955583, 0.987033268, 0.997072492, 1.008699816, 1.023880674, 1.01326347, 1.002174385, 0.987596782, 0.966019644, 0.94923684, 0.948678069, 0.873788675, 0.894480651, 0.894948509, 0.918314031, 0.927425683, 0.949636875, 0.962961712, 0.984763809, 0.991645612, 1.012409974, 1.013583759, 1.002309236, 0.997150678, 0.980045729, 0.982184619, 0.975065996, 0.969756541, 0.933716154, 0.963252569, 0.962881674, 0.945157627]\n",
    "Cd_tunnel = [0.041401646, 0.024335498, 0.01301389, 0.006065125, 0.001600778, -0.000690951, 0, 0, 0.004670683, 0.012354609, 0.023042956, 0.037004666, 0.054503151, 0.073016973, 0.096651532, 0.121588528, 0.148020266, 0.173001389, 0.1759046, 0.180326659, 0.187394121, 0.193811259, 0.200642868, 0.208310877, 0.210759105, 0.213018741, 0.214428281, 0.214161399, 0.214790368, 0.21901959, 0.217859985, 0.218878023, 0.214858128, 0.216234251, 0.21411309, 0.214880887, 0.213483472, 0.213813182, 0.210780782, 0.210581577, 0.206215946, 0.199371703, 0.193826457, 0.186067495, 0.182037159, 0.176320655, 0.170994243, 0.14788611, 0.165517063, 0.161131132, 0.153928694]\n",
    "Cm_tunnel = [-0.1295528, -0.118723629, -0.11328203, -0.109317356, -0.10824409, -0.103225844, -0.097493466, -0.093493034, -0.097684795, -0.092068382, -0.096017938, -0.098466648, -0.106748939, -0.100028773, -0.116210632, -0.124439225, -0.135659411, -0.144211733, -0.138679523, -0.137253205, -0.142388664, -0.14209267, -0.144166309, -0.150956447, -0.14941918, -0.146758566, -0.146164202, -0.141067724, -0.138064526, -0.145337553, -0.12983706, -0.134880853, -0.128620381, -0.134595977, -0.134291879, -0.14120612, -0.140687848, -0.14710211, -0.143402204, -0.150882599, -0.14660939, -0.14206259, -0.142855442, -0.139157666, -0.143411084, -0.142063775, -0.138246839, -0.135288344, -0.135653598, -0.141691773, -0.135342149]\n",
    "\n",
    "#Cl\n",
    "plt.figure(figsize=(10, 6))\n",
    "plt.plot(alpha_filtered, CL_filtered, label='XFOIL Cl vs Alpha', color=\"r\")\n",
    "plt.plot(aoa_tunnel, pressures['c_l'], label='fede', color=\"black\")\n",
    "# plt.plot(aoa_tunnel, Cl_tunnel, label='Measured Cl vs Alpha', color=\"b\")\n",
    "#plt.axvline(x=max_alpha, linestyle='--', color='red', label=f'Max CL at ({max_alpha:.2f}, {max_CL:.2f})')\n",
    "#plt.axhline(y=max_CL, linestyle='--', color='red')\n",
    "plt.xlabel('Alpha (degrees)')\n",
    "plt.ylabel('Cl')\n",
    "plt.grid(True)\n",
    "plt.legend()\n",
    "# plt.savefig(f\"Lift{aoa}.svg\", format=\"svg\")\n",
    "plt.show()\n",
    "\n",
    "#Cd\n",
    "plt.figure(figsize=(10, 6))\n",
    "plt.plot(alpha_filtered, CD_filtered, label='XFOIL CD vs Alpha', color='r')\n",
    "plt.plot(aoa_tunnel, pressures['c_d'], label='fede cd', color='black')\n",
    "# plt.plot(aoa_tunnel, Cd_tunnel, label='Measured Cd vs Alpha', color=\"b\")\n",
    "plt.xlabel('Alpha (degrees)')\n",
    "plt.ylabel('CD')\n",
    "plt.grid(True)\n",
    "plt.legend()\n",
    "# plt.savefig(f\"Drag{aoa}.svg\", format=\"svg\")\n",
    "plt.show()\n",
    "\n",
    "#Cm\n",
    "plt.figure(figsize=(10, 6))\n",
    "plt.plot(alpha_filtered, Cm_filtered, label='XFOIL Cm vs Alpha', color='r')\n",
    "plt.plot(aoa_tunnel, Cm_tunnel, label='Measured Cm vs Alpha', color=\"b\")\n",
    "plt.plot(aoa_tunnel, pressures['c_m'], label='fede', color=\"black\")\n",
    "plt.xlabel('Alpha (degrees)')\n",
    "plt.ylabel('Cm')\n",
    "plt.grid(True)\n",
    "plt.legend()\n",
    "# plt.savefig(f\"Moment{aoa}.svg\", format=\"svg\")\n",
    "plt.show()\n",
    "\n",
    "\n",
    "if aoa in pressures['Alpha'].values:\n",
    "    temp = cp_distributions[cp_distributions['Alpha'] == aoa].copy(deep=True).reset_index()\n",
    "else: \n",
    "    raise Exception('This angle of attack was not measured during the test or the number is inserted incorrectly')\n",
    "\n",
    "colors = ['tab:red', 'tab:orange']\n",
    "\n",
    "#Cp\n",
    "plt.figure(figsize=(10, 6))\n",
    "for i in range(len(temp)):\n",
    "    upper = temp.loc[i, 'P001':'P025'].to_numpy().flatten()\n",
    "    lower = temp.loc[i, 'P026':'P049'].to_numpy().flatten()\n",
    "    \n",
    "    plt.plot(airfoil_ports['x'][0:25], upper, color= colors[i], label=f'Experimental: Angle of Attack = {aoa}°')\n",
    "    plt.plot(airfoil_ports['x'][25:49], lower, color= colors[i])\n",
    "\n",
    "plt.plot(chord_fraction, cp, label=f'Numerical: Angle of Attack = {aoa}', color='b')\n",
    "plt.xlabel('Chord %')\n",
    "plt.ylabel('Cp')\n",
    "plt.grid(True)\n",
    "plt.legend()\n",
    "plt.gca().invert_yaxis()\n",
    "# plt.savefig(f\"Cp{aoa}.svg\", format=\"svg\")\n",
    "plt.show()\n",
    "\n",
    "\n",
    "print(f\"The maximum CL is {max_CL:.2f} at alpha = {max_alpha:.2f} degrees.\")"
   ]
  },
  {
   "cell_type": "code",
   "execution_count": null,
   "metadata": {},
   "outputs": [],
   "source": []
  },
  {
   "cell_type": "code",
   "execution_count": null,
   "metadata": {},
   "outputs": [],
   "source": []
  },
  {
   "cell_type": "code",
   "execution_count": null,
   "metadata": {},
   "outputs": [],
   "source": []
  },
  {
   "cell_type": "markdown",
   "metadata": {},
   "source": [
    "# 3D Wing\n"
   ]
  },
  {
   "cell_type": "code",
   "execution_count": null,
   "metadata": {},
   "outputs": [],
   "source": [
    "wing_data = pd.read_csv('data/raw_3D.txt', sep = '\\t', skiprows=[1])\n",
    "wing_data.columns = wing_data.columns.str.strip(' ')\n",
    "wing_data.columns"
   ]
  },
  {
   "cell_type": "code",
   "execution_count": 20,
   "metadata": {},
   "outputs": [],
   "source": [
    "wing_data['q_inf'] = 0.211804 + 1.928442*wing_data['Delta_Pb'] + 1.879374 *10**(-4) * (wing_data['Delta_Pb'])**2\n",
    "wing_area = 0.066146"
   ]
  },
  {
   "cell_type": "code",
   "execution_count": 21,
   "metadata": {},
   "outputs": [],
   "source": [
    "wing_data['c_L'] = wing_data['Fy']/(wing_data['q_inf']*wing_area)\n",
    "wing_data['c_D'] = wing_data['Fx']/(wing_data['q_inf']*wing_area)"
   ]
  },
  {
   "cell_type": "code",
   "execution_count": 22,
   "metadata": {},
   "outputs": [],
   "source": [
    "wing_data = wing_data.drop(labels=['Run_nr', 'Time', 'Fz', 'rpm'], axis=1)"
   ]
  },
  {
   "cell_type": "code",
   "execution_count": 23,
   "metadata": {},
   "outputs": [],
   "source": [
    "wing_data.to_csv('data/processed_3D.csv')"
   ]
  },
  {
   "cell_type": "code",
   "execution_count": null,
   "metadata": {},
   "outputs": [],
   "source": [
    "plt.plot(wing_data['Alpha'], wing_data['c_L'], marker = 'o', markersize = 6, zorder = 999,\n",
    "        label = 'CL 3D wing')\n",
    "\n",
    "plt.plot(pressures['Alpha'], pressures['c_l'], marker = '^', markersize = 6, zorder = 100,\n",
    "         label = 'Cl 2D airfoil')\n",
    "\n",
    "plt.xlabel(r\"$\\alpha \\quad [\\deg]$\")\n",
    "plt.ylabel(r\"$c_L \\quad [-]$\")\n",
    "plt.axhline(0, color = 'black', linestyle='--')\n",
    "plt.axvline(0, color= 'black', linestyle='--')\n",
    "plt.xticks(range(-6, 19, 2))\n",
    "plt.legend()\n",
    "plt.grid()\n",
    "plt.savefig('plots3d/3DClAlpha.svg')\n",
    "plt.show()"
   ]
  },
  {
   "cell_type": "code",
   "execution_count": null,
   "metadata": {},
   "outputs": [],
   "source": [
    "plt.plot(wing_data['c_D'], wing_data['c_L'], marker = 'o', markersize = 6, zorder = 999,\n",
    "        label = 'CL 3D wing')\n",
    "\n",
    "plt.plot(pressures['c_d'], pressures['c_l'], marker = '^', markersize = 6, zorder = 100,\n",
    "         label = 'Cl 2D airfoil')\n",
    "\n",
    "plt.xlabel(r\"$c_D \\quad [-]$\")\n",
    "plt.ylabel(r\"$c_L \\quad [-]$\")\n",
    "plt.axhline(0, color = 'black', linestyle='--')\n",
    "# plt.axvline(0, color= 'black', linestyle='--')\n",
    "# plt.xticks(range(-6, 19, 2))\n",
    "plt.legend()\n",
    "plt.grid()\n",
    "plt.savefig('plots3d/3DCdAlpha.svg')\n",
    "plt.show()"
   ]
  },
  {
   "cell_type": "code",
   "execution_count": 38,
   "metadata": {},
   "outputs": [],
   "source": [
    "AR = 416.9 / 160 \n",
    "delta = 0.10  # TODO: Change value\n",
    "\n",
    "wing_data['c_Di'] = wing_data['c_L']**2 / (np.pi * AR) * (1 + delta)"
   ]
  },
  {
   "cell_type": "code",
   "execution_count": null,
   "metadata": {},
   "outputs": [],
   "source": [
    "plt.plot(wing_data['Alpha'], wing_data['c_Di'], marker = 'o', markersize = 6, zorder = 999,\n",
    "        label = 'induced drag coefficient')\n",
    "\n",
    "plt.plot(wing_data['Alpha'], wing_data['c_D'], marker = '^', markersize = 6, zorder = 100,\n",
    "         label = 'drag coefficient')\n",
    "\n",
    "plt.xlabel(r\"$\\alpha \\quad [\\deg]$\")\n",
    "plt.ylabel(r\"$c_D \\quad [-]$\")\n",
    "plt.axhline(0, color = 'black', linestyle='--')\n",
    "plt.axvline(0, color= 'black', linestyle='--')\n",
    "plt.xticks(range(-6, 19, 2))\n",
    "plt.legend()\n",
    "plt.grid()\n",
    "plt.savefig('plots3d/cdi-alpha.svg')\n",
    "plt.show()\n",
    "# TODO: check graph, seems not correct"
   ]
  },
  {
   "cell_type": "code",
   "execution_count": null,
   "metadata": {},
   "outputs": [],
   "source": []
  }
 ],
 "metadata": {
  "kernelspec": {
   "display_name": "Python 3",
   "language": "python",
   "name": "python3"
  },
  "language_info": {
   "codemirror_mode": {
    "name": "ipython",
    "version": 3
   },
   "file_extension": ".py",
   "mimetype": "text/x-python",
   "name": "python",
   "nbconvert_exporter": "python",
   "pygments_lexer": "ipython3",
   "version": "3.12.2"
  }
 },
 "nbformat": 4,
 "nbformat_minor": 2
}
