{
 "cells": [
  {
   "cell_type": "markdown",
   "metadata": {},
   "source": [
    "# 1 Importing dependencies and Data"
   ]
  },
  {
   "cell_type": "code",
   "execution_count": 116,
   "metadata": {
    "trusted": true
   },
   "outputs": [],
   "source": [
    "import pandas as pd\n",
    "import matplotlib.pyplot as plt\n",
    "import numpy as np"
   ]
  },
  {
   "cell_type": "markdown",
   "metadata": {},
   "source": [
    "Importing the data recorded from the pressure ports"
   ]
  },
  {
   "cell_type": "code",
   "execution_count": 117,
   "metadata": {
    "trusted": true
   },
   "outputs": [
    {
     "data": {
      "text/plain": [
       "Index(['  Run_nr', '    Time', '   Alpha', 'Delta_Pb', '   P_bar', '       T',\n",
       "       '     rpm', '     rho', '    P001', '    P002',\n",
       "       ...\n",
       "       '    P104', '    P105', '    P106', '    P107', '    P108', '    P109',\n",
       "       '    P110', '    P111', '    P112', '    P113'],\n",
       "      dtype='object', length=121)"
      ]
     },
     "execution_count": 117,
     "metadata": {},
     "output_type": "execute_result"
    }
   ],
   "source": [
    "pressures = pd.read_csv('raw_testG41.csv')\n",
    "pressures.columns"
   ]
  },
  {
   "cell_type": "code",
   "execution_count": 118,
   "metadata": {
    "trusted": true
   },
   "outputs": [
    {
     "data": {
      "text/plain": [
       "  Run_nr    object\n",
       "    Time    object\n",
       "   Alpha    object\n",
       "Delta_Pb    object\n",
       "   P_bar    object\n",
       "             ...  \n",
       "    P109    object\n",
       "    P110    object\n",
       "    P111    object\n",
       "    P112    object\n",
       "    P113    object\n",
       "Length: 121, dtype: object"
      ]
     },
     "execution_count": 118,
     "metadata": {},
     "output_type": "execute_result"
    }
   ],
   "source": [
    "pressures.dtypes"
   ]
  },
  {
   "cell_type": "markdown",
   "metadata": {},
   "source": [
    "Importing the coordinates of each static port on the airfoil"
   ]
  },
  {
   "cell_type": "code",
   "execution_count": 119,
   "metadata": {
    "trusted": true
   },
   "outputs": [
    {
     "data": {
      "text/plain": [
       "Index(['Port Name', 'x', 'y'], dtype='object')"
      ]
     },
     "execution_count": 119,
     "metadata": {},
     "output_type": "execute_result"
    }
   ],
   "source": [
    "airfoil_ports = pd.read_csv('airfoil_coordinates.csv')\n",
    "airfoil_ports.columns"
   ]
  },
  {
   "cell_type": "markdown",
   "metadata": {},
   "source": [
    "## Processing to floats"
   ]
  },
  {
   "cell_type": "code",
   "execution_count": 120,
   "metadata": {
    "trusted": true
   },
   "outputs": [],
   "source": [
    "pressures = pressures.drop(labels=0)"
   ]
  },
  {
   "cell_type": "code",
   "execution_count": 121,
   "metadata": {
    "trusted": true
   },
   "outputs": [
    {
     "data": {
      "text/plain": [
       "Index(['Run_nr', 'Time', 'Alpha', 'Delta_Pb', 'P_bar', 'T', 'rpm', 'rho',\n",
       "       'P001', 'P002',\n",
       "       ...\n",
       "       'P104', 'P105', 'P106', 'P107', 'P108', 'P109', 'P110', 'P111', 'P112',\n",
       "       'P113'],\n",
       "      dtype='object', length=121)"
      ]
     },
     "execution_count": 121,
     "metadata": {},
     "output_type": "execute_result"
    }
   ],
   "source": [
    "pressures.columns = pressures.columns.str.strip(' ')\n",
    "pressures.columns"
   ]
  },
  {
   "cell_type": "code",
   "execution_count": 122,
   "metadata": {
    "trusted": true
   },
   "outputs": [],
   "source": [
    "pressures = pressures.drop(labels= ['Time', 'Run_nr'], axis=1)"
   ]
  },
  {
   "cell_type": "code",
   "execution_count": 123,
   "metadata": {
    "trusted": true
   },
   "outputs": [],
   "source": [
    "pressures = pressures.astype(float)"
   ]
  },
  {
   "cell_type": "markdown",
   "metadata": {},
   "source": [
    "## Seslect a specific angle of attack"
   ]
  },
  {
   "cell_type": "code",
   "execution_count": 91,
   "metadata": {
    "trusted": true
   },
   "outputs": [],
   "source": [
    "# here insert your angle of attack\n",
    "aoa = 8"
   ]
  },
  {
   "cell_type": "code",
   "execution_count": 112,
   "metadata": {
    "trusted": true
   },
   "outputs": [
    {
     "data": {
      "text/html": [
       "<div>\n",
       "<style scoped>\n",
       "    .dataframe tbody tr th:only-of-type {\n",
       "        vertical-align: middle;\n",
       "    }\n",
       "\n",
       "    .dataframe tbody tr th {\n",
       "        vertical-align: top;\n",
       "    }\n",
       "\n",
       "    .dataframe thead th {\n",
       "        text-align: right;\n",
       "    }\n",
       "</style>\n",
       "<table border=\"1\" class=\"dataframe\">\n",
       "  <thead>\n",
       "    <tr style=\"text-align: right;\">\n",
       "      <th></th>\n",
       "      <th>Alpha</th>\n",
       "      <th>Delta_Pb</th>\n",
       "      <th>P_bar</th>\n",
       "      <th>T</th>\n",
       "      <th>rpm</th>\n",
       "      <th>rho</th>\n",
       "      <th>P001</th>\n",
       "      <th>P002</th>\n",
       "      <th>P003</th>\n",
       "      <th>P004</th>\n",
       "      <th>...</th>\n",
       "      <th>P104</th>\n",
       "      <th>P105</th>\n",
       "      <th>P106</th>\n",
       "      <th>P107</th>\n",
       "      <th>P108</th>\n",
       "      <th>P109</th>\n",
       "      <th>P110</th>\n",
       "      <th>P111</th>\n",
       "      <th>P112</th>\n",
       "      <th>P113</th>\n",
       "    </tr>\n",
       "  </thead>\n",
       "  <tbody>\n",
       "    <tr>\n",
       "      <th>16</th>\n",
       "      <td>8.0</td>\n",
       "      <td>138.89</td>\n",
       "      <td>1025.29</td>\n",
       "      <td>20.87</td>\n",
       "      <td>889.86</td>\n",
       "      <td>1.215</td>\n",
       "      <td>-785.33</td>\n",
       "      <td>-577.5</td>\n",
       "      <td>-577.44</td>\n",
       "      <td>-484.92</td>\n",
       "      <td>...</td>\n",
       "      <td>16.06</td>\n",
       "      <td>14.89</td>\n",
       "      <td>13.69</td>\n",
       "      <td>12.07</td>\n",
       "      <td>12.0</td>\n",
       "      <td>18.36</td>\n",
       "      <td>0.1</td>\n",
       "      <td>-0.01</td>\n",
       "      <td>-0.11</td>\n",
       "      <td>-0.08</td>\n",
       "    </tr>\n",
       "  </tbody>\n",
       "</table>\n",
       "<p>1 rows × 119 columns</p>\n",
       "</div>"
      ],
      "text/plain": [
       "    Alpha  Delta_Pb    P_bar      T     rpm    rho    P001   P002    P003  \\\n",
       "16    8.0    138.89  1025.29  20.87  889.86  1.215 -785.33 -577.5 -577.44   \n",
       "\n",
       "      P004  ...   P104   P105   P106   P107  P108   P109  P110  P111  P112  \\\n",
       "16 -484.92  ...  16.06  14.89  13.69  12.07  12.0  18.36   0.1 -0.01 -0.11   \n",
       "\n",
       "    P113  \n",
       "16 -0.08  \n",
       "\n",
       "[1 rows x 119 columns]"
      ]
     },
     "execution_count": 112,
     "metadata": {},
     "output_type": "execute_result"
    }
   ],
   "source": [
    "if aoa in pressures['Alpha'].values:\n",
    "    current = pressures[pressures['Alpha'] == aoa]\n",
    "else: \n",
    "    raise Exception('This angle of attack was not measured during the test or the number is inserted incorrectly')\n",
    "\n",
    "current = current.copy()\n",
    "current"
   ]
  },
  {
   "cell_type": "markdown",
   "metadata": {},
   "source": [
    "## Transform the curve from pressure distribution to dimensionless coefficient $C_p \\: [-]$"
   ]
  },
  {
   "cell_type": "code",
   "execution_count": 125,
   "metadata": {
    "trusted": true
   },
   "outputs": [
    {
     "data": {
      "text/plain": [
       "16    271.678507\n",
       "Name: q_inf, dtype: float64"
      ]
     },
     "execution_count": 125,
     "metadata": {},
     "output_type": "execute_result"
    }
   ],
   "source": [
    "current['q_inf'] = 0.211804 + 1.928442*current['Delta_Pb'] + 1.879374 *10**(-4) * current['Delta_Pb']**2\n",
    "\n",
    "current['q_inf']"
   ]
  },
  {
   "cell_type": "code",
   "execution_count": 114,
   "metadata": {
    "trusted": true
   },
   "outputs": [
    {
     "data": {
      "text/html": [
       "<div>\n",
       "<style scoped>\n",
       "    .dataframe tbody tr th:only-of-type {\n",
       "        vertical-align: middle;\n",
       "    }\n",
       "\n",
       "    .dataframe tbody tr th {\n",
       "        vertical-align: top;\n",
       "    }\n",
       "\n",
       "    .dataframe thead th {\n",
       "        text-align: right;\n",
       "    }\n",
       "</style>\n",
       "<table border=\"1\" class=\"dataframe\">\n",
       "  <thead>\n",
       "    <tr style=\"text-align: right;\">\n",
       "      <th></th>\n",
       "      <th>Alpha</th>\n",
       "      <th>Delta_Pb</th>\n",
       "      <th>P_bar</th>\n",
       "      <th>T</th>\n",
       "      <th>rpm</th>\n",
       "      <th>rho</th>\n",
       "      <th>P001</th>\n",
       "      <th>P002</th>\n",
       "      <th>P003</th>\n",
       "      <th>P004</th>\n",
       "      <th>...</th>\n",
       "      <th>P105</th>\n",
       "      <th>P106</th>\n",
       "      <th>P107</th>\n",
       "      <th>P108</th>\n",
       "      <th>P109</th>\n",
       "      <th>P110</th>\n",
       "      <th>P111</th>\n",
       "      <th>P112</th>\n",
       "      <th>P113</th>\n",
       "      <th>q_inf</th>\n",
       "    </tr>\n",
       "  </thead>\n",
       "  <tbody>\n",
       "    <tr>\n",
       "      <th>16</th>\n",
       "      <td>8.0</td>\n",
       "      <td>138.89</td>\n",
       "      <td>1025.29</td>\n",
       "      <td>20.87</td>\n",
       "      <td>889.86</td>\n",
       "      <td>1.215</td>\n",
       "      <td>101743.67</td>\n",
       "      <td>101951.5</td>\n",
       "      <td>101951.56</td>\n",
       "      <td>102044.08</td>\n",
       "      <td>...</td>\n",
       "      <td>14.89</td>\n",
       "      <td>13.69</td>\n",
       "      <td>12.07</td>\n",
       "      <td>12.0</td>\n",
       "      <td>18.36</td>\n",
       "      <td>0.1</td>\n",
       "      <td>-0.01</td>\n",
       "      <td>-0.11</td>\n",
       "      <td>-0.08</td>\n",
       "      <td>271.678507</td>\n",
       "    </tr>\n",
       "  </tbody>\n",
       "</table>\n",
       "<p>1 rows × 120 columns</p>\n",
       "</div>"
      ],
      "text/plain": [
       "    Alpha  Delta_Pb    P_bar      T     rpm    rho       P001      P002  \\\n",
       "16    8.0    138.89  1025.29  20.87  889.86  1.215  101743.67  101951.5   \n",
       "\n",
       "         P003       P004  ...   P105   P106   P107  P108   P109  P110  P111  \\\n",
       "16  101951.56  102044.08  ...  14.89  13.69  12.07  12.0  18.36   0.1 -0.01   \n",
       "\n",
       "    P112  P113       q_inf  \n",
       "16 -0.11 -0.08  271.678507  \n",
       "\n",
       "[1 rows x 120 columns]"
      ]
     },
     "execution_count": 114,
     "metadata": {},
     "output_type": "execute_result"
    }
   ],
   "source": [
    "current.loc[:, 'P001':'P049'] = (current.loc[:, 'P001':'P049']).add(current.loc[:, 'P_bar'] * 1e2, axis=0)\n",
    "current"
   ]
  },
  {
   "cell_type": "code",
   "execution_count": 115,
   "metadata": {
    "trusted": true
   },
   "outputs": [
    {
     "data": {
      "image/png": "[encoded data removed]",
      "text/plain": [
       "<Figure size 640x480 with 1 Axes>"
      ]
     },
     "metadata": {},
     "output_type": "display_data"
    }
   ],
   "source": [
    "upper = cp_distributions.loc[:, 'P001':'P025'].to_numpy().flatten()\n",
    "lower = cp_distributions.loc[:, 'P026':'P049'].to_numpy().flatten()\n",
    "\n",
    "plt.plot(airfoil_ports['x'][0:25], upper, color= 'tab:blue', label=f'Angle of Attack = {aoa}°')\n",
    "plt.plot(airfoil_ports['x'][25:49], lower, color= 'tab:blue')\n",
    "plt.axhline(0.0, linestyle=(0, (1, 5)), color='red')\n",
    "plt.xlabel('Percentage of the chord $(x/c)$ [%]')\n",
    "plt.ylabel(r'Pressure Coefficient $C_p$ [-]')\n",
    "plt.gca().invert_yaxis()\n",
    "\n",
    "plt.legend()\n",
    "plt.show()"
   ]
  },
  {
   "cell_type": "code",
   "execution_count": null,
   "metadata": {},
   "outputs": [],
   "source": []
  }
 ],
 "metadata": {
  "kernelspec": {
   "display_name": "base",
   "language": "python",
   "name": "python3"
  },
  "language_info": {
   "codemirror_mode": {
    "name": "ipython",
    "version": 3
   },
   "file_extension": ".py",
   "mimetype": "text/x-python",
   "name": "python",
   "nbconvert_exporter": "python",
   "pygments_lexer": "ipython3",
   "version": "3.12.4"
  }
 },
 "nbformat": 4,
 "nbformat_minor": 2
}
